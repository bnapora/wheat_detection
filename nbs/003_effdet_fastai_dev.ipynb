{
 "cells": [
  {
   "cell_type": "code",
   "execution_count": 1,
   "metadata": {},
   "outputs": [],
   "source": [
    "from fastai2.vision.all import *\n",
    "from fastai2.vision.core import _unscale_pnts\n",
    "from effdet import get_efficientdet_config, EfficientDet, DetBenchTrain\n",
    "from effdet.efficientdet import HeadNet\n",
    "from effdet.anchors import Anchors,AnchorLabeler,generate_detections,MAX_DETECTION_POINTS\n",
    "from effdet.loss import DetectionLoss"
   ]
  },
  {
   "cell_type": "code",
   "execution_count": 2,
   "metadata": {},
   "outputs": [],
   "source": [
    "# refactor after testing \n",
    "# Setting up effdet related config\n",
    "\n",
    "model_config = get_efficientdet_config('tf_efficientdet_d0')\n",
    "model = EfficientDet(model_config,pretrained_backbone=True)\n",
    "model_config.num_classes = 1\n",
    "model_config.image_size = 256\n",
    "model.class_net = HeadNet(model_config,num_outputs=model_config.num_classes,norm_kwargs=dict(eps=.001,momentum=0.01))\n",
    "path = Path('/home/heye0507/wheat_detection/data')"
   ]
  },
  {
   "cell_type": "code",
   "execution_count": 3,
   "metadata": {},
   "outputs": [],
   "source": [
    "# Fastai bbox style is [x1,y1,x2,y2], given coco-style is [x1,y1,w,h]\n",
    "def convert_fastai_bbox(box):\n",
    "    x1,y1,w,h = box\n",
    "    x2 = x1 + w\n",
    "    y2 = y1 + h\n",
    "    return [x1,y1,x2,y2]\n",
    "    \n",
    "def prep_bbox(df):\n",
    "    images, bbox = df['image_id'],df['bbox']\n",
    "    d = collections.defaultdict(list)\n",
    "    for i,b in zip(images,bbox):\n",
    "        d[i].append(convert_fastai_bbox([float(i) for i in b[1:-1].split(',')]))\n",
    "    return d"
   ]
  },
  {
   "cell_type": "code",
   "execution_count": 4,
   "metadata": {},
   "outputs": [],
   "source": [
    "def get_data(path,sz=224,bs=64):\n",
    "    base = Path(path).parent\n",
    "    df = pd.read_csv(path)\n",
    "    img2bbox = prep_bbox(df)\n",
    "    dblocks = DataBlock(\n",
    "        blocks = (ImageBlock,BBoxBlock,BBoxLblBlock),\n",
    "        splitter = RandomSplitter(valid_pct=0.),\n",
    "        get_x = lambda o: str(base/'train')+'/'+o+'.jpg',\n",
    "        get_y = [lambda o: img2bbox[o], lambda o: ['wheat' for i in range(len(img2bbox[o]))]],\n",
    "        item_tfms = Resize(sz),\n",
    "        n_inp=1\n",
    "    )\n",
    "    return dblocks.dataloaders(img2bbox.keys(),bs=bs)"
   ]
  },
  {
   "cell_type": "code",
   "execution_count": 5,
   "metadata": {},
   "outputs": [],
   "source": [
    "dls = get_data(path/'arvalis_1.csv',sz=256,bs=4)"
   ]
  },
  {
   "cell_type": "code",
   "execution_count": 6,
   "metadata": {},
   "outputs": [
    {
     "data": {
      "text/plain": [
       "(torch.Size([4, 3, 256, 256]), torch.Size([4, 55, 4]), torch.Size([4, 55]))"
      ]
     },
     "execution_count": 6,
     "metadata": {},
     "output_type": "execute_result"
    }
   ],
   "source": [
    "b = dls.one_batch()\n",
    "b[0].shape, b[1].shape, b[2].shape # img, bbox, bboxlbl"
   ]
  },
  {
   "cell_type": "markdown",
   "metadata": {},
   "source": [
    "# Initial merge effdet with fastai"
   ]
  },
  {
   "cell_type": "code",
   "execution_count": 7,
   "metadata": {},
   "outputs": [],
   "source": [
    "def un_pad(boxes,labels):\n",
    "    bb_keep = ((boxes[:,2] - boxes[:,0])>0).nonzero()[:,0]\n",
    "    return boxes[bb_keep],labels[bb_keep]"
   ]
  },
  {
   "cell_type": "code",
   "execution_count": 8,
   "metadata": {},
   "outputs": [],
   "source": [
    "# Setup anchor with gt_bbox & gt_lbl matching\n",
    "\n",
    "anchors = Anchors(\n",
    "    model_config.min_level,model_config.max_level,\n",
    "    model_config.num_scales, model_config.aspect_ratios,\n",
    "    model_config.anchor_scale, model_config.image_size\n",
    "    )"
   ]
  },
  {
   "cell_type": "markdown",
   "metadata": {},
   "source": [
    "# Test metrics"
   ]
  },
  {
   "cell_type": "code",
   "execution_count": 9,
   "metadata": {},
   "outputs": [],
   "source": [
    "from numba import jit"
   ]
  },
  {
   "cell_type": "code",
   "execution_count": 57,
   "metadata": {},
   "outputs": [],
   "source": [
    "# code from kaggle https://www.kaggle.com/pestipeti/competition-metric-details-script/data\n",
    "@jit(nopython=True)\n",
    "def calculate_iou(gt, pr, form='pascal_voc') -> float:\n",
    "    \"\"\"Calculates the Intersection over Union.\n",
    "\n",
    "    Args:\n",
    "        gt: (np.ndarray[Union[int, float]]) coordinates of the ground-truth box\n",
    "        pr: (np.ndarray[Union[int, float]]) coordinates of the prdected box\n",
    "        form: (str) gt/pred coordinates format\n",
    "            - pascal_voc: [xmin, ymin, xmax, ymax]\n",
    "            - coco: [xmin, ymin, w, h]\n",
    "    Returns:\n",
    "        (float) Intersection over union (0.0 <= iou <= 1.0)\n",
    "    \"\"\"\n",
    "    if form == 'coco':\n",
    "        gt = gt.copy()\n",
    "        pr = pr.copy()\n",
    "\n",
    "        gt[2] = gt[0] + gt[2]\n",
    "        gt[3] = gt[1] + gt[3]\n",
    "        pr[2] = pr[0] + pr[2]\n",
    "        pr[3] = pr[1] + pr[3]\n",
    "\n",
    "    # Calculate overlap area\n",
    "    dx = min(gt[2], pr[2]) - max(gt[0], pr[0]) + 1\n",
    "    \n",
    "    if dx < 0:\n",
    "        return 0.0\n",
    "    \n",
    "    dy = min(gt[3], pr[3]) - max(gt[1], pr[1]) + 1\n",
    "\n",
    "    if dy < 0:\n",
    "        return 0.0\n",
    "\n",
    "    overlap_area = dx * dy\n",
    "\n",
    "    # Calculate union area\n",
    "    union_area = (\n",
    "            (gt[2] - gt[0] + 1) * (gt[3] - gt[1] + 1) +\n",
    "            (pr[2] - pr[0] + 1) * (pr[3] - pr[1] + 1) -\n",
    "            overlap_area\n",
    "    )\n",
    "\n",
    "    return overlap_area / union_area\n",
    "\n",
    "@jit(nopython=True)\n",
    "def find_best_match(gts, pred, pred_idx, threshold = 0.5, form = 'pascal_voc', ious=None) -> int:\n",
    "    \"\"\"Returns the index of the 'best match' between the\n",
    "    ground-truth boxes and the prediction. The 'best match'\n",
    "    is the highest IoU. (0.0 IoUs are ignored).\n",
    "\n",
    "    Args:\n",
    "        gts: (List[List[Union[int, float]]]) Coordinates of the available ground-truth boxes\n",
    "        pred: (List[Union[int, float]]) Coordinates of the predicted box\n",
    "        pred_idx: (int) Index of the current predicted box\n",
    "        threshold: (float) Threshold\n",
    "        form: (str) Format of the coordinates\n",
    "        ious: (np.ndarray) len(gts) x len(preds) matrix for storing calculated ious.\n",
    "\n",
    "    Return:\n",
    "        (int) Index of the best match GT box (-1 if no match above threshold)\n",
    "    \"\"\"\n",
    "    best_match_iou = -np.inf\n",
    "    best_match_idx = -1\n",
    "\n",
    "    for gt_idx in range(len(gts)):\n",
    "        \n",
    "        if gts[gt_idx][0] < 0:\n",
    "            # Already matched GT-box\n",
    "            continue\n",
    "        \n",
    "        iou = -1 if ious is None else ious[gt_idx][pred_idx]\n",
    "\n",
    "        if iou < 0:\n",
    "            iou = calculate_iou(gts[gt_idx], pred, form=form)\n",
    "            \n",
    "            if ious is not None:\n",
    "                ious[gt_idx][pred_idx] = iou\n",
    "\n",
    "        if iou < threshold:\n",
    "            continue\n",
    "\n",
    "        if iou > best_match_iou:\n",
    "            best_match_iou = iou\n",
    "            best_match_idx = gt_idx\n",
    "\n",
    "    return best_match_idx\n",
    "\n",
    "@jit(nopython=True)\n",
    "def calculate_precision(gts, preds, threshold = 0.5, form = 'coco', ious=None) -> float:\n",
    "    \"\"\"Calculates precision for GT - prediction pairs at one threshold.\n",
    "\n",
    "    Args:\n",
    "        gts: (List[List[Union[int, float]]]) Coordinates of the available ground-truth boxes\n",
    "        preds: (List[List[Union[int, float]]]) Coordinates of the predicted boxes,\n",
    "               sorted by confidence value (descending)\n",
    "        threshold: (float) Threshold\n",
    "        form: (str) Format of the coordinates\n",
    "        ious: (np.ndarray) len(gts) x len(preds) matrix for storing calculated ious.\n",
    "\n",
    "    Return:\n",
    "        (float) Precision\n",
    "    \"\"\"\n",
    "    n = len(preds)\n",
    "    tp = 0\n",
    "    fp = 0\n",
    "    \n",
    "    # for pred_idx, pred in enumerate(preds_sorted):\n",
    "    for pred_idx in range(n):\n",
    "\n",
    "        best_match_gt_idx = find_best_match(gts, preds[pred_idx], pred_idx,\n",
    "                                            threshold=threshold, form=form, ious=ious)\n",
    "\n",
    "        if best_match_gt_idx >= 0:\n",
    "            # True positive: The predicted box matches a gt box with an IoU above the threshold.\n",
    "            tp += 1\n",
    "            # Remove the matched GT box\n",
    "            gts[best_match_gt_idx] = -1\n",
    "\n",
    "        else:\n",
    "            # No match\n",
    "            # False positive: indicates a predicted box had no associated gt box.\n",
    "            fp += 1\n",
    "\n",
    "    # False negative: indicates a gt box had no associated predicted box.\n",
    "    fn = (gts.sum(axis=1) > 0).sum()\n",
    "\n",
    "    return tp / (tp + fp + fn)\n",
    "\n",
    "\n",
    "@jit(nopython=True)\n",
    "def calculate_image_precision(gts, preds, thresholds = (0.5, ), form = 'coco') -> float:\n",
    "    \"\"\"Calculates image precision.\n",
    "\n",
    "    Args:\n",
    "        gts: (List[List[Union[int, float]]]) Coordinates of the available ground-truth boxes\n",
    "        preds: (List[List[Union[int, float]]]) Coordinates of the predicted boxes,\n",
    "               sorted by confidence value (descending)\n",
    "        thresholds: (float) Different thresholds\n",
    "        form: (str) Format of the coordinates\n",
    "\n",
    "    Return:\n",
    "        (float) Precision\n",
    "    \"\"\"\n",
    "    n_threshold = len(thresholds)\n",
    "    image_precision = 0.0\n",
    "    \n",
    "    ious = np.ones((len(gts), len(preds))) * -1\n",
    "    # ious = None\n",
    "\n",
    "    for threshold in thresholds:\n",
    "        precision_at_threshold = calculate_precision(gts.copy(), preds, threshold=threshold,\n",
    "                                                     form=form, ious=ious)\n",
    "        image_precision += precision_at_threshold / n_threshold\n",
    "\n",
    "    return image_precision"
   ]
  },
  {
   "cell_type": "code",
   "execution_count": 11,
   "metadata": {},
   "outputs": [],
   "source": [
    "class myAnchorBox():\n",
    "    def __init__(self,anchors,num_class,match_threshold=0.5):\n",
    "        self.anchor_labeler = AnchorLabeler(anchors,num_class,match_threshold)"
   ]
  },
  {
   "cell_type": "code",
   "execution_count": 12,
   "metadata": {},
   "outputs": [],
   "source": [
    "anchor_labeler = myAnchorBox(anchors,model_config.num_classes)"
   ]
  },
  {
   "cell_type": "code",
   "execution_count": 104,
   "metadata": {},
   "outputs": [],
   "source": [
    "class TstLearner():\n",
    "    def __init__(self): self.pred,self.y = None,None\n",
    "        \n",
    "#Go through a fake cycle with various batch sizes and computes the value of met\n",
    "def compute_val(met, x1, x2):\n",
    "    met.reset()\n",
    "    learn = TstLearner()\n",
    "    learn.pred,learn.y = x1,x2\n",
    "    met.accumulate(learn)\n",
    "    return met.value"
   ]
  },
  {
   "cell_type": "code",
   "execution_count": 97,
   "metadata": {},
   "outputs": [],
   "source": [
    "test_mAP = partial(my_mAP,img_size=256)"
   ]
  },
  {
   "cell_type": "code",
   "execution_count": 99,
   "metadata": {},
   "outputs": [],
   "source": [
    "from fastai2.metrics import AccumMetric"
   ]
  },
  {
   "cell_type": "code",
   "execution_count": 100,
   "metadata": {},
   "outputs": [],
   "source": [
    "tst = AccumMetric(test_mAP)"
   ]
  },
  {
   "cell_type": "code",
   "execution_count": 105,
   "metadata": {},
   "outputs": [
    {
     "ename": "AttributeError",
     "evalue": "'tuple' object has no attribute 'contiguous'",
     "output_type": "error",
     "traceback": [
      "\u001b[0;31m---------------------------------------------------------------------------\u001b[0m",
      "\u001b[0;31mAttributeError\u001b[0m                            Traceback (most recent call last)",
      "\u001b[0;32m<ipython-input-105-534527e3c104>\u001b[0m in \u001b[0;36m<module>\u001b[0;34m\u001b[0m\n\u001b[0;32m----> 1\u001b[0;31m \u001b[0mtest_close\u001b[0m\u001b[0;34m(\u001b[0m\u001b[0mcompute_val\u001b[0m\u001b[0;34m(\u001b[0m\u001b[0mtst\u001b[0m\u001b[0;34m,\u001b[0m\u001b[0mpreds\u001b[0m\u001b[0;34m,\u001b[0m\u001b[0;34m(\u001b[0m\u001b[0mb\u001b[0m\u001b[0;34m[\u001b[0m\u001b[0;36m1\u001b[0m\u001b[0;34m]\u001b[0m\u001b[0;34m,\u001b[0m\u001b[0mb\u001b[0m\u001b[0;34m[\u001b[0m\u001b[0;36m2\u001b[0m\u001b[0;34m]\u001b[0m\u001b[0;34m)\u001b[0m\u001b[0;34m)\u001b[0m\u001b[0;34m,\u001b[0m\u001b[0mmy_mAP\u001b[0m\u001b[0;34m(\u001b[0m\u001b[0mpreds\u001b[0m\u001b[0;34m,\u001b[0m\u001b[0;34m(\u001b[0m\u001b[0mb\u001b[0m\u001b[0;34m[\u001b[0m\u001b[0;36m1\u001b[0m\u001b[0;34m]\u001b[0m\u001b[0;34m,\u001b[0m\u001b[0mb\u001b[0m\u001b[0;34m[\u001b[0m\u001b[0;36m2\u001b[0m\u001b[0;34m]\u001b[0m\u001b[0;34m)\u001b[0m\u001b[0;34m)\u001b[0m\u001b[0;34m)\u001b[0m\u001b[0;34m\u001b[0m\u001b[0;34m\u001b[0m\u001b[0m\n\u001b[0m",
      "\u001b[0;32m<ipython-input-104-9bc901e05428>\u001b[0m in \u001b[0;36mcompute_val\u001b[0;34m(met, x1, x2)\u001b[0m\n\u001b[1;32m      7\u001b[0m     \u001b[0mlearn\u001b[0m \u001b[0;34m=\u001b[0m \u001b[0mTstLearner\u001b[0m\u001b[0;34m(\u001b[0m\u001b[0;34m)\u001b[0m\u001b[0;34m\u001b[0m\u001b[0;34m\u001b[0m\u001b[0m\n\u001b[1;32m      8\u001b[0m     \u001b[0mlearn\u001b[0m\u001b[0;34m.\u001b[0m\u001b[0mpred\u001b[0m\u001b[0;34m,\u001b[0m\u001b[0mlearn\u001b[0m\u001b[0;34m.\u001b[0m\u001b[0my\u001b[0m \u001b[0;34m=\u001b[0m \u001b[0mx1\u001b[0m\u001b[0;34m,\u001b[0m\u001b[0mx2\u001b[0m\u001b[0;34m\u001b[0m\u001b[0;34m\u001b[0m\u001b[0m\n\u001b[0;32m----> 9\u001b[0;31m     \u001b[0mmet\u001b[0m\u001b[0;34m.\u001b[0m\u001b[0maccumulate\u001b[0m\u001b[0;34m(\u001b[0m\u001b[0mlearn\u001b[0m\u001b[0;34m)\u001b[0m\u001b[0;34m\u001b[0m\u001b[0;34m\u001b[0m\u001b[0m\n\u001b[0m\u001b[1;32m     10\u001b[0m     \u001b[0;32mreturn\u001b[0m \u001b[0mmet\u001b[0m\u001b[0;34m.\u001b[0m\u001b[0mvalue\u001b[0m\u001b[0;34m\u001b[0m\u001b[0;34m\u001b[0m\u001b[0m\n",
      "\u001b[0;32m/opt/conda/envs/fastai2/lib/python3.7/site-packages/fastai2/metrics.py\u001b[0m in \u001b[0;36maccumulate\u001b[0;34m(self, learn)\u001b[0m\n\u001b[1;32m     32\u001b[0m         \u001b[0mtarg\u001b[0m \u001b[0;34m=\u001b[0m \u001b[0mlearn\u001b[0m\u001b[0;34m.\u001b[0m\u001b[0my\u001b[0m\u001b[0;34m\u001b[0m\u001b[0;34m\u001b[0m\u001b[0m\n\u001b[1;32m     33\u001b[0m         \u001b[0mpred\u001b[0m\u001b[0;34m,\u001b[0m\u001b[0mtarg\u001b[0m \u001b[0;34m=\u001b[0m \u001b[0mto_detach\u001b[0m\u001b[0;34m(\u001b[0m\u001b[0mpred\u001b[0m\u001b[0;34m)\u001b[0m\u001b[0;34m,\u001b[0m\u001b[0mto_detach\u001b[0m\u001b[0;34m(\u001b[0m\u001b[0mtarg\u001b[0m\u001b[0;34m)\u001b[0m\u001b[0;34m\u001b[0m\u001b[0;34m\u001b[0m\u001b[0m\n\u001b[0;32m---> 34\u001b[0;31m         \u001b[0;32mif\u001b[0m \u001b[0mself\u001b[0m\u001b[0;34m.\u001b[0m\u001b[0mflatten\u001b[0m\u001b[0;34m:\u001b[0m \u001b[0mpred\u001b[0m\u001b[0;34m,\u001b[0m\u001b[0mtarg\u001b[0m \u001b[0;34m=\u001b[0m \u001b[0mflatten_check\u001b[0m\u001b[0;34m(\u001b[0m\u001b[0mpred\u001b[0m\u001b[0;34m,\u001b[0m\u001b[0mtarg\u001b[0m\u001b[0;34m)\u001b[0m\u001b[0;34m\u001b[0m\u001b[0;34m\u001b[0m\u001b[0m\n\u001b[0m\u001b[1;32m     35\u001b[0m         \u001b[0mself\u001b[0m\u001b[0;34m.\u001b[0m\u001b[0mpreds\u001b[0m\u001b[0;34m.\u001b[0m\u001b[0mappend\u001b[0m\u001b[0;34m(\u001b[0m\u001b[0mpred\u001b[0m\u001b[0;34m)\u001b[0m\u001b[0;34m\u001b[0m\u001b[0;34m\u001b[0m\u001b[0m\n\u001b[1;32m     36\u001b[0m         \u001b[0mself\u001b[0m\u001b[0;34m.\u001b[0m\u001b[0mtargs\u001b[0m\u001b[0;34m.\u001b[0m\u001b[0mappend\u001b[0m\u001b[0;34m(\u001b[0m\u001b[0mtarg\u001b[0m\u001b[0;34m)\u001b[0m\u001b[0;34m\u001b[0m\u001b[0;34m\u001b[0m\u001b[0m\n",
      "\u001b[0;32m/opt/conda/envs/fastai2/lib/python3.7/site-packages/fastai2/torch_core.py\u001b[0m in \u001b[0;36mflatten_check\u001b[0;34m(inp, targ)\u001b[0m\n\u001b[1;32m    777\u001b[0m \u001b[0;32mdef\u001b[0m \u001b[0mflatten_check\u001b[0m\u001b[0;34m(\u001b[0m\u001b[0minp\u001b[0m\u001b[0;34m,\u001b[0m \u001b[0mtarg\u001b[0m\u001b[0;34m)\u001b[0m\u001b[0;34m:\u001b[0m\u001b[0;34m\u001b[0m\u001b[0;34m\u001b[0m\u001b[0m\n\u001b[1;32m    778\u001b[0m     \u001b[0;34m\"Check that `out` and `targ` have the same number of elements and flatten them.\"\u001b[0m\u001b[0;34m\u001b[0m\u001b[0;34m\u001b[0m\u001b[0m\n\u001b[0;32m--> 779\u001b[0;31m     \u001b[0minp\u001b[0m\u001b[0;34m,\u001b[0m\u001b[0mtarg\u001b[0m \u001b[0;34m=\u001b[0m \u001b[0minp\u001b[0m\u001b[0;34m.\u001b[0m\u001b[0mcontiguous\u001b[0m\u001b[0;34m(\u001b[0m\u001b[0;34m)\u001b[0m\u001b[0;34m.\u001b[0m\u001b[0mview\u001b[0m\u001b[0;34m(\u001b[0m\u001b[0;34m-\u001b[0m\u001b[0;36m1\u001b[0m\u001b[0;34m)\u001b[0m\u001b[0;34m,\u001b[0m\u001b[0mtarg\u001b[0m\u001b[0;34m.\u001b[0m\u001b[0mcontiguous\u001b[0m\u001b[0;34m(\u001b[0m\u001b[0;34m)\u001b[0m\u001b[0;34m.\u001b[0m\u001b[0mview\u001b[0m\u001b[0;34m(\u001b[0m\u001b[0;34m-\u001b[0m\u001b[0;36m1\u001b[0m\u001b[0;34m)\u001b[0m\u001b[0;34m\u001b[0m\u001b[0;34m\u001b[0m\u001b[0m\n\u001b[0m\u001b[1;32m    780\u001b[0m     \u001b[0mtest_eq\u001b[0m\u001b[0;34m(\u001b[0m\u001b[0mlen\u001b[0m\u001b[0;34m(\u001b[0m\u001b[0minp\u001b[0m\u001b[0;34m)\u001b[0m\u001b[0;34m,\u001b[0m \u001b[0mlen\u001b[0m\u001b[0;34m(\u001b[0m\u001b[0mtarg\u001b[0m\u001b[0;34m)\u001b[0m\u001b[0;34m)\u001b[0m\u001b[0;34m\u001b[0m\u001b[0;34m\u001b[0m\u001b[0m\n\u001b[1;32m    781\u001b[0m     \u001b[0;32mreturn\u001b[0m \u001b[0minp\u001b[0m\u001b[0;34m,\u001b[0m\u001b[0mtarg\u001b[0m\u001b[0;34m\u001b[0m\u001b[0;34m\u001b[0m\u001b[0m\n",
      "\u001b[0;31mAttributeError\u001b[0m: 'tuple' object has no attribute 'contiguous'"
     ]
    }
   ],
   "source": [
    "test_close(compute_val(tst,preds,(b[1],b[2])),my_mAP(preds,(b[1],b[2])))"
   ]
  },
  {
   "cell_type": "code",
   "execution_count": null,
   "metadata": {},
   "outputs": [],
   "source": []
  },
  {
   "cell_type": "code",
   "execution_count": null,
   "metadata": {},
   "outputs": [],
   "source": []
  },
  {
   "cell_type": "code",
   "execution_count": 93,
   "metadata": {},
   "outputs": [],
   "source": [
    "# Check caution lines and FIX it after testing\n",
    "\n",
    "def my_mAP(preds,targs,img_size=256):\n",
    "    class_out, box_out = preds\n",
    "    gt_bbox, gt_lbl = targs\n",
    "    batch_size = gt_bbox.shape[0]\n",
    "    valid_img_precision = []\n",
    "    \n",
    "    \n",
    "    ## unpack fastai2 collated batch\n",
    "    boxes, labels = [],[]\n",
    "\n",
    "    for i in range(batch_size):\n",
    "        box, lbl = un_pad(gt_bbox[i],gt_lbl[i])\n",
    "        box = _unscale_pnts(box,img_size).cpu()\n",
    "        boxes.append(box.numpy()) \n",
    "        labels.append(lbl.float().cpu())\n",
    "    ##########################################################\n",
    "        \n",
    "    ## prepare effDet format\n",
    "    '''\n",
    "        CAUTION: \n",
    "                model_config used as global var\n",
    "                anchors used as global var\n",
    "        \n",
    "        res is a list of results in the format\n",
    "        len(res) = MAX_DETECTION_POINTS, by default is 100, given dataset has max 116 bbox, suggests a higher num\n",
    "        \n",
    "        res: [[x,y,x,y,p,lbl],\n",
    "              [],\n",
    "              []...\n",
    "             ]\n",
    "        \n",
    "        each of the item in res:\n",
    "            0:4, bbox pred in xyxy pascal format\n",
    "            5, confidence\n",
    "            6, class (will always be 1. since only 1 class in the label)\n",
    "                \n",
    "        \n",
    "    ''' \n",
    "    \n",
    "    class_out,box_out,indices,classes = _post_process(model_config,class_out, box_out) # CAUTION\n",
    "    res = _batch_detection(\n",
    "        batch_size,class_out,\n",
    "        box_out,anchors.boxes,\n",
    "        indices,classes,\n",
    "        tensor([1.]*batch_size),tensor([(img_size,img_size)]*batch_size)\n",
    "    ) # CAUTION\n",
    "    ##########################################################\n",
    "        \n",
    "    \n",
    "    '''\n",
    "        CAUTION:\n",
    "                threshold and form is hardcode\n",
    "    '''\n",
    "    for i in range(batch_size):\n",
    "        pred = res[i,:,0:4].detach().numpy() \n",
    "        valid_img_precision.append(calculate_precision(boxes[i],pred,threshold=0.5,form='pascal_voc')) # CAUTION\n",
    "    return np.mean(valid_img_precision)\n",
    "    "
   ]
  },
  {
   "cell_type": "code",
   "execution_count": 94,
   "metadata": {},
   "outputs": [
    {
     "data": {
      "text/plain": [
       "0.0"
      ]
     },
     "execution_count": 94,
     "metadata": {},
     "output_type": "execute_result"
    }
   ],
   "source": [
    "my_mAP(preds,(b[1],b[2]))"
   ]
  },
  {
   "cell_type": "markdown",
   "metadata": {},
   "source": [
    "## Test one item in the batch"
   ]
  },
  {
   "cell_type": "code",
   "execution_count": 19,
   "metadata": {},
   "outputs": [],
   "source": [
    "preds = learn.model(b[0])"
   ]
  },
  {
   "cell_type": "code",
   "execution_count": 60,
   "metadata": {
    "collapsed": true
   },
   "outputs": [
    {
     "ename": "AttributeError",
     "evalue": "'tuple' object has no attribute 'detach'",
     "output_type": "error",
     "traceback": [
      "\u001b[0;31m---------------------------------------------------------------------------\u001b[0m",
      "\u001b[0;31mAttributeError\u001b[0m                            Traceback (most recent call last)",
      "\u001b[0;32m<ipython-input-60-9e882433385a>\u001b[0m in \u001b[0;36m<module>\u001b[0;34m\u001b[0m\n\u001b[0;32m----> 1\u001b[0;31m \u001b[0mcls_o\u001b[0m\u001b[0;34m,\u001b[0m \u001b[0mbox_o\u001b[0m \u001b[0;34m=\u001b[0m \u001b[0mpreds\u001b[0m\u001b[0;34m.\u001b[0m\u001b[0mdetach\u001b[0m\u001b[0;34m(\u001b[0m\u001b[0;34m)\u001b[0m\u001b[0;34m\u001b[0m\u001b[0;34m\u001b[0m\u001b[0m\n\u001b[0m",
      "\u001b[0;31mAttributeError\u001b[0m: 'tuple' object has no attribute 'detach'"
     ]
    }
   ],
   "source": [
    "cls_o, box_o = preds"
   ]
  },
  {
   "cell_type": "code",
   "execution_count": 21,
   "metadata": {},
   "outputs": [
    {
     "data": {
      "text/plain": [
       "torch.Size([4, 36, 16, 16])"
      ]
     },
     "execution_count": 21,
     "metadata": {},
     "output_type": "execute_result"
    }
   ],
   "source": [
    "box_o[1].shape"
   ]
  },
  {
   "cell_type": "code",
   "execution_count": 22,
   "metadata": {},
   "outputs": [],
   "source": [
    "from effdet.bench import _post_process,_batch_detection"
   ]
  },
  {
   "cell_type": "code",
   "execution_count": 23,
   "metadata": {},
   "outputs": [
    {
     "name": "stderr",
     "output_type": "stream",
     "text": [
      "/opt/conda/conda-bld/pytorch_1587428111115/work/aten/src/ATen/native/BinaryOps.cpp:81: UserWarning: Integer division of tensors using div or / is deprecated, and in a future release div will perform true division as in Python 3. Use true_divide or floor_divide (// in Python) instead.\n"
     ]
    }
   ],
   "source": [
    "cls_o,box_o,indices,classes = _post_process(model_config,cls_o,box_o)"
   ]
  },
  {
   "cell_type": "code",
   "execution_count": 24,
   "metadata": {},
   "outputs": [
    {
     "data": {
      "text/plain": [
       "256"
      ]
     },
     "execution_count": 24,
     "metadata": {},
     "output_type": "execute_result"
    }
   ],
   "source": [
    "b[0].shape[2]"
   ]
  },
  {
   "cell_type": "code",
   "execution_count": 25,
   "metadata": {},
   "outputs": [],
   "source": [
    "res = _batch_detection(4,cls_o,box_o,anchors.boxes,indices,classes,tensor([1.]*4),tensor([(256,256)]*4))"
   ]
  },
  {
   "cell_type": "code",
   "execution_count": 28,
   "metadata": {},
   "outputs": [
    {
     "data": {
      "text/plain": [
       "torch.Size([4, 55, 4])"
      ]
     },
     "execution_count": 28,
     "metadata": {},
     "output_type": "execute_result"
    }
   ],
   "source": [
    "b[1].shape"
   ]
  },
  {
   "cell_type": "code",
   "execution_count": 30,
   "metadata": {},
   "outputs": [
    {
     "data": {
      "text/plain": [
       "torch.Size([55, 4])"
      ]
     },
     "execution_count": 30,
     "metadata": {},
     "output_type": "execute_result"
    }
   ],
   "source": [
    "b[1][0].shape"
   ]
  },
  {
   "cell_type": "code",
   "execution_count": 35,
   "metadata": {},
   "outputs": [],
   "source": [
    "box, lbl = un_pad(b[1][0],b[2][0])"
   ]
  },
  {
   "cell_type": "code",
   "execution_count": 36,
   "metadata": {
    "collapsed": true
   },
   "outputs": [
    {
     "data": {
      "text/plain": [
       "TensorPoint([[  0.0000,   1.0000,  16.7500,  18.7500],\n",
       "        [ 32.2500,  57.5000,  57.7500,  85.2500],\n",
       "        [ 62.0000,  44.0000,  83.7500,  64.2500],\n",
       "        [140.2500,  37.5000, 161.5000,  63.2500],\n",
       "        [ 98.7500,  73.5000, 119.0000,  92.0000],\n",
       "        [ 34.2500,  95.0000,  52.7500, 112.0000],\n",
       "        [  8.0000,  91.0000,  23.0000, 108.2500],\n",
       "        [ 23.2500, 118.7500,  39.7500, 137.0000],\n",
       "        [ 39.2500, 119.2500,  58.5000, 137.5000],\n",
       "        [103.0000, 113.2500, 131.0000, 136.7500],\n",
       "        [135.7500, 101.5000, 157.0000, 119.7500],\n",
       "        [148.0000,  80.0000, 168.5000,  96.2500],\n",
       "        [160.0000, 101.5000, 182.2500, 121.0000],\n",
       "        [210.7500, 108.7500, 240.7500, 125.5000],\n",
       "        [241.2500,  88.7500, 256.0000, 102.2500],\n",
       "        [232.2500,  33.2500, 256.0000,  54.5000],\n",
       "        [189.2500,  34.0000, 210.5000,  54.7500],\n",
       "        [177.2500, 139.0000, 214.0000, 164.0000],\n",
       "        [126.0000, 154.5000, 171.0000, 179.7500],\n",
       "        [102.5000, 174.0000, 132.0000, 194.2500],\n",
       "        [ 67.7500, 187.2500, 101.5000, 205.0000],\n",
       "        [110.5000, 195.0000, 148.5000, 207.5000],\n",
       "        [ 92.2500, 208.0000, 121.7500, 228.0000],\n",
       "        [ 42.2500, 236.0000,  74.2500, 256.0000],\n",
       "        [  7.0000, 217.0000,  33.0000, 239.5000],\n",
       "        [  4.0000, 164.7500,  23.2500, 181.5000],\n",
       "        [209.0000, 228.5000, 232.5000, 247.0000],\n",
       "        [218.5000, 184.7500, 241.7500, 209.2500],\n",
       "        [132.0000, 124.2500, 148.5000, 141.5000],\n",
       "        [ 67.0000, 114.0000,  90.2500, 134.7500],\n",
       "        [  0.0000,  28.7500,  10.2500,  58.2500],\n",
       "        [ 59.2500, 132.2500,  76.0000, 145.0000]])"
      ]
     },
     "execution_count": 36,
     "metadata": {},
     "output_type": "execute_result"
    }
   ],
   "source": [
    "box = _unscale_pnts(box,256)\n",
    "box"
   ]
  },
  {
   "cell_type": "code",
   "execution_count": 53,
   "metadata": {},
   "outputs": [],
   "source": [
    "box = box.numpy()"
   ]
  },
  {
   "cell_type": "code",
   "execution_count": 43,
   "metadata": {},
   "outputs": [],
   "source": [
    "pred_t = res[0,:,:4].detach().numpy()"
   ]
  },
  {
   "cell_type": "code",
   "execution_count": 54,
   "metadata": {},
   "outputs": [
    {
     "data": {
      "text/plain": [
       "(numpy.ndarray, numpy.ndarray)"
      ]
     },
     "execution_count": 54,
     "metadata": {},
     "output_type": "execute_result"
    }
   ],
   "source": [
    "type(box),type(pred_t)"
   ]
  },
  {
   "cell_type": "code",
   "execution_count": 64,
   "metadata": {},
   "outputs": [
    {
     "data": {
      "text/plain": [
       "float"
      ]
     },
     "execution_count": 64,
     "metadata": {},
     "output_type": "execute_result"
    }
   ],
   "source": [
    "type(calculate_precision(box,pred_t,threshold=0.5, form='pascal_voc'))"
   ]
  },
  {
   "cell_type": "markdown",
   "metadata": {},
   "source": [
    "## Ends Test one item in batch"
   ]
  },
  {
   "cell_type": "code",
   "execution_count": 27,
   "metadata": {
    "collapsed": true
   },
   "outputs": [
    {
     "data": {
      "text/plain": [
       "tensor([[147.9213,  34.0022, 108.0787,  56.7162,   0.7491,   1.0000],\n",
       "        [ 94.3752, 148.1128,  30.1446,  52.6194,   0.7312,   1.0000],\n",
       "        [179.2300,  58.0780,  22.1936,  22.9427,   0.7218,   1.0000],\n",
       "        [ 55.0045, 219.4999, 200.9955,  35.7155,   0.7169,   1.0000],\n",
       "        [ 32.8208,  73.3128, 223.1792,  17.0515,   0.7130,   1.0000],\n",
       "        [256.0000,  18.5512,   0.0000, 171.3965,   0.7006,   1.0000],\n",
       "        [ 87.7732,  57.6122,  39.1776,  41.2651,   0.6964,   1.0000],\n",
       "        [ 68.8620,  86.6201,  17.4454,  85.3198,   0.6962,   1.0000],\n",
       "        [201.7247,  64.2280,  23.2171,  18.8281,   0.6960,   1.0000],\n",
       "        [178.0925,  13.0822,  31.6233,  61.2273,   0.6914,   1.0000],\n",
       "        [ 94.6772, 167.4801,  21.0064,  10.1315,   0.6914,   1.0000],\n",
       "        [256.0000, 109.5852,   0.0000,  18.6028,   0.6912,   1.0000],\n",
       "        [155.7521,  73.4414,  42.8729,   6.9292,   0.6884,   1.0000],\n",
       "        [197.4418,  57.0413,  50.1744,  25.3051,   0.6860,   1.0000],\n",
       "        [145.7589,  15.1986,  18.4057, 110.1019,   0.6846,   1.0000],\n",
       "        [149.8547,   0.0000,  53.3798,   2.9385,   0.6844,   1.0000],\n",
       "        [235.3934,  25.6261,  20.6066,  35.7220,   0.6839,   1.0000],\n",
       "        [247.0399,   0.0000,   8.9601,  68.9039,   0.6808,   1.0000],\n",
       "        [152.0358,  63.5969,  75.4350, 147.4398,   0.6799,   1.0000],\n",
       "        [210.6731,  48.8145,  26.6590, 135.9900,   0.6798,   1.0000],\n",
       "        [ 71.4390,  64.5514, 142.4092,  71.1354,   0.6758,   1.0000],\n",
       "        [256.0000,   0.0000,   0.0000,  60.5775,   0.6750,   1.0000],\n",
       "        [114.7361,  73.0671,  48.1596,  67.2364,   0.6744,   1.0000],\n",
       "        [201.5557,  68.1249,  49.2316,  26.6965,   0.6738,   1.0000],\n",
       "        [144.0966, 119.8064,  84.6799,  18.0699,   0.6711,   1.0000],\n",
       "        [ 72.3886, 181.7179,  12.4004,   6.4742,   0.6709,   1.0000],\n",
       "        [207.7044,   0.0000,  31.5085,  14.3595,   0.6709,   1.0000],\n",
       "        [  0.0000, 163.0665, 256.0000,  52.9058,   0.6702,   1.0000],\n",
       "        [  0.0000,   0.0000, 134.7391,   0.0000,   0.6686,   1.0000],\n",
       "        [161.3568,  54.5490,  46.3788,  22.9711,   0.6670,   1.0000],\n",
       "        [136.2124,  80.7375,  71.4801,  70.8641,   0.6666,   1.0000],\n",
       "        [256.0000,   0.0000,   0.0000, 171.6877,   0.6661,   1.0000],\n",
       "        [164.4365,  32.0306,  59.3979,  10.7622,   0.6659,   1.0000],\n",
       "        [217.7033,  95.7735,  32.3592,  71.5161,   0.6639,   1.0000],\n",
       "        [180.8623,  28.9160,  66.7050,  47.9593,   0.6636,   1.0000],\n",
       "        [158.6320,   0.0000,  52.0050,  45.3537,   0.6629,   1.0000],\n",
       "        [187.4455, 159.4845,  58.2769,  15.9359,   0.6626,   1.0000],\n",
       "        [ 30.1238,  66.0535,  16.0929,  53.1059,   0.6625,   1.0000],\n",
       "        [135.2227, 141.8712, 104.3307,  30.5175,   0.6615,   1.0000],\n",
       "        [ 59.7710,  99.6699,  24.4404,  33.9998,   0.6614,   1.0000],\n",
       "        [190.7706,  80.5745,  20.1674,  11.9214,   0.6594,   1.0000],\n",
       "        [  0.0000,   0.0000, 191.6119,  75.6589,   0.6592,   1.0000],\n",
       "        [ 58.8048,   0.0000,  60.6557, 192.2333,   0.6587,   1.0000],\n",
       "        [192.8857,   0.0000,  17.3711,  57.3281,   0.6585,   1.0000],\n",
       "        [ 33.2446, 108.6097, 112.8938,  18.9476,   0.6585,   1.0000],\n",
       "        [251.2163,  59.4971,   4.7837, 117.5455,   0.6585,   1.0000],\n",
       "        [205.0280,   0.0000,  50.9720,  53.2207,   0.6564,   1.0000],\n",
       "        [164.3375, 197.9148,  91.6625,  32.2780,   0.6550,   1.0000],\n",
       "        [105.9510, 139.6115,  26.8846,  66.8081,   0.6548,   1.0000],\n",
       "        [196.8115,   0.0000,  30.8095,   5.7325,   0.6548,   1.0000],\n",
       "        [100.6702,  43.3711, 131.2929, 119.7176,   0.6547,   1.0000],\n",
       "        [  0.0000,   0.0000, 124.5242,  35.4487,   0.6544,   1.0000],\n",
       "        [128.1895,  55.3160,  95.9788,  17.8308,   0.6538,   1.0000],\n",
       "        [195.8852,   0.0000,  60.1148, 211.0847,   0.6537,   1.0000],\n",
       "        [248.3199,  61.5674,   7.6801,  37.7898,   0.6527,   1.0000],\n",
       "        [ 93.7203, 105.5630, 162.2797,  30.3230,   0.6525,   1.0000],\n",
       "        [189.5157,  86.7624,  22.6829,  24.8851,   0.6522,   1.0000],\n",
       "        [247.5617,  12.5633,   8.4383,  34.2562,   0.6511,   1.0000],\n",
       "        [103.5351, 203.1324,  49.2875,  35.2773,   0.6511,   1.0000],\n",
       "        [110.9004,  79.9523, 101.7586,  25.0203,   0.6507,   1.0000],\n",
       "        [102.7448,  55.3724,  75.4175,  44.1486,   0.6502,   1.0000],\n",
       "        [180.1348,   0.0000,  66.2825,   3.6794,   0.6500,   1.0000],\n",
       "        [  0.0000, 256.0000, 256.0000,   0.0000,   0.6497,   1.0000],\n",
       "        [256.0000,   0.0000,   0.0000, 103.0804,   0.6496,   1.0000],\n",
       "        [256.0000,   0.0000,   0.0000, 163.7377,   0.6493,   1.0000],\n",
       "        [174.3700,  14.6888,  81.6300,  41.4463,   0.6489,   1.0000],\n",
       "        [ 96.0908,   0.0000,  27.8497, 114.9850,   0.6481,   1.0000],\n",
       "        [251.7103,  39.4523,   4.2897,  31.8525,   0.6479,   1.0000],\n",
       "        [186.7991,  69.1056,  52.8787,  17.5920,   0.6478,   1.0000],\n",
       "        [ 55.2218, 197.2987, 128.6570,  32.7314,   0.6474,   1.0000],\n",
       "        [163.9257, 145.3886,  25.5436,  12.9162,   0.6471,   1.0000],\n",
       "        [ 78.2979, 121.4850, 114.4101,  70.1516,   0.6470,   1.0000],\n",
       "        [139.5678, 119.2138,  41.1086,  22.3019,   0.6465,   1.0000],\n",
       "        [ 75.4524,   9.6302, 131.5182,   6.1898,   0.6460,   1.0000],\n",
       "        [ 49.8810,   0.0000, 206.1190,   0.0000,   0.6458,   1.0000],\n",
       "        [ 25.2549,   0.0000, 102.7928, 232.2977,   0.6458,   1.0000],\n",
       "        [ 45.9240,  59.6982, 159.5845,  14.1299,   0.6457,   1.0000],\n",
       "        [123.5426,  39.9272, 132.4574,   6.2849,   0.6457,   1.0000],\n",
       "        [256.0000,   0.0000,   0.0000,   2.2545,   0.6456,   1.0000],\n",
       "        [240.8004,  27.8003,  15.1996,  70.0433,   0.6455,   1.0000],\n",
       "        [  0.0000,  23.7110,  56.7722,  72.9040,   0.6444,   1.0000],\n",
       "        [153.5952,  77.5261,  65.0214,  25.7857,   0.6442,   1.0000],\n",
       "        [244.5936,  27.3920,  11.4064,  38.3525,   0.6442,   1.0000],\n",
       "        [ 85.3173, 158.5536,  27.8752,  26.3052,   0.6437,   1.0000],\n",
       "        [165.7583,  12.6912,  23.8162,  12.3708,   0.6435,   1.0000],\n",
       "        [175.3581,  74.5974,  31.6477, 101.2312,   0.6434,   1.0000],\n",
       "        [  0.0000,  70.3979, 256.0000,  73.0254,   0.6432,   1.0000],\n",
       "        [  0.0000,  24.6941, 147.3575,  32.6250,   0.6432,   1.0000],\n",
       "        [165.3331, 112.0285,  90.6669,  18.5884,   0.6421,   1.0000],\n",
       "        [ 53.9124, 146.0936, 141.4924,  11.3595,   0.6420,   1.0000],\n",
       "        [ 40.6449,   0.0000,  64.5493,  14.2087,   0.6418,   1.0000],\n",
       "        [120.5880,  89.6076,  14.0129,  52.5943,   0.6410,   1.0000],\n",
       "        [  0.0000,  62.9831,   0.0000, 134.2625,   0.6407,   1.0000],\n",
       "        [256.0000,   0.0000,   0.0000,  99.1876,   0.6406,   1.0000],\n",
       "        [ 84.4896, 254.8781,  71.4557,   1.1219,   0.6406,   1.0000],\n",
       "        [181.5643,  83.7674,  74.4357,  23.8528,   0.6393,   1.0000],\n",
       "        [ 66.9899, 227.8065,  50.3187,  17.9985,   0.6391,   1.0000],\n",
       "        [113.7601,  26.0834,  37.0225,  45.4305,   0.6388,   1.0000],\n",
       "        [159.5927, 221.5342,  29.8362,  34.4658,   0.6387,   1.0000],\n",
       "        [141.3586,   5.4927,  53.7774,  91.5124,   0.6386,   1.0000]],\n",
       "       grad_fn=<SelectBackward>)"
      ]
     },
     "execution_count": 27,
     "metadata": {},
     "output_type": "execute_result"
    }
   ],
   "source": [
    "res[0] # bbox in pascal (xyxy), confidence, class_lbl"
   ]
  },
  {
   "cell_type": "code",
   "execution_count": 26,
   "metadata": {
    "collapsed": true
   },
   "outputs": [
    {
     "data": {
      "text/plain": [
       "tensor([[147.9213,  34.0022, 108.0787,  56.7162],\n",
       "        [ 94.3752, 148.1128,  30.1446,  52.6194],\n",
       "        [179.2300,  58.0780,  22.1936,  22.9427],\n",
       "        [ 55.0045, 219.4999, 200.9955,  35.7155],\n",
       "        [ 32.8208,  73.3128, 223.1792,  17.0515],\n",
       "        [256.0000,  18.5512,   0.0000, 171.3965],\n",
       "        [ 87.7732,  57.6122,  39.1776,  41.2651],\n",
       "        [ 68.8620,  86.6201,  17.4454,  85.3198],\n",
       "        [201.7247,  64.2280,  23.2171,  18.8281],\n",
       "        [178.0925,  13.0822,  31.6233,  61.2273],\n",
       "        [ 94.6772, 167.4801,  21.0064,  10.1315],\n",
       "        [256.0000, 109.5852,   0.0000,  18.6028],\n",
       "        [155.7521,  73.4414,  42.8729,   6.9292],\n",
       "        [197.4418,  57.0413,  50.1744,  25.3051],\n",
       "        [145.7589,  15.1986,  18.4057, 110.1019],\n",
       "        [149.8547,   0.0000,  53.3798,   2.9385],\n",
       "        [235.3934,  25.6261,  20.6066,  35.7220],\n",
       "        [247.0399,   0.0000,   8.9601,  68.9039],\n",
       "        [152.0358,  63.5969,  75.4350, 147.4398],\n",
       "        [210.6731,  48.8145,  26.6590, 135.9900],\n",
       "        [ 71.4390,  64.5514, 142.4092,  71.1354],\n",
       "        [256.0000,   0.0000,   0.0000,  60.5775],\n",
       "        [114.7361,  73.0671,  48.1596,  67.2364],\n",
       "        [201.5557,  68.1249,  49.2316,  26.6965],\n",
       "        [144.0966, 119.8064,  84.6799,  18.0699],\n",
       "        [ 72.3886, 181.7179,  12.4004,   6.4742],\n",
       "        [207.7044,   0.0000,  31.5085,  14.3595],\n",
       "        [  0.0000, 163.0665, 256.0000,  52.9058],\n",
       "        [  0.0000,   0.0000, 134.7391,   0.0000],\n",
       "        [161.3568,  54.5490,  46.3788,  22.9711],\n",
       "        [136.2124,  80.7375,  71.4801,  70.8641],\n",
       "        [256.0000,   0.0000,   0.0000, 171.6877],\n",
       "        [164.4365,  32.0306,  59.3979,  10.7622],\n",
       "        [217.7033,  95.7735,  32.3592,  71.5161],\n",
       "        [180.8623,  28.9160,  66.7050,  47.9593],\n",
       "        [158.6320,   0.0000,  52.0050,  45.3537],\n",
       "        [187.4455, 159.4845,  58.2769,  15.9359],\n",
       "        [ 30.1238,  66.0535,  16.0929,  53.1059],\n",
       "        [135.2227, 141.8712, 104.3307,  30.5175],\n",
       "        [ 59.7710,  99.6699,  24.4404,  33.9998],\n",
       "        [190.7706,  80.5745,  20.1674,  11.9214],\n",
       "        [  0.0000,   0.0000, 191.6119,  75.6589],\n",
       "        [ 58.8048,   0.0000,  60.6557, 192.2333],\n",
       "        [192.8857,   0.0000,  17.3711,  57.3281],\n",
       "        [ 33.2446, 108.6097, 112.8938,  18.9476],\n",
       "        [251.2163,  59.4971,   4.7837, 117.5455],\n",
       "        [205.0280,   0.0000,  50.9720,  53.2207],\n",
       "        [164.3375, 197.9148,  91.6625,  32.2780],\n",
       "        [105.9510, 139.6115,  26.8846,  66.8081],\n",
       "        [196.8115,   0.0000,  30.8095,   5.7325],\n",
       "        [100.6702,  43.3711, 131.2929, 119.7176],\n",
       "        [  0.0000,   0.0000, 124.5242,  35.4487],\n",
       "        [128.1895,  55.3160,  95.9788,  17.8308],\n",
       "        [195.8852,   0.0000,  60.1148, 211.0847],\n",
       "        [248.3199,  61.5674,   7.6801,  37.7898],\n",
       "        [ 93.7203, 105.5630, 162.2797,  30.3230],\n",
       "        [189.5157,  86.7624,  22.6829,  24.8851],\n",
       "        [247.5617,  12.5633,   8.4383,  34.2562],\n",
       "        [103.5351, 203.1324,  49.2875,  35.2773],\n",
       "        [110.9004,  79.9523, 101.7586,  25.0203],\n",
       "        [102.7448,  55.3724,  75.4175,  44.1486],\n",
       "        [180.1348,   0.0000,  66.2825,   3.6794],\n",
       "        [  0.0000, 256.0000, 256.0000,   0.0000],\n",
       "        [256.0000,   0.0000,   0.0000, 103.0804],\n",
       "        [256.0000,   0.0000,   0.0000, 163.7377],\n",
       "        [174.3700,  14.6888,  81.6300,  41.4463],\n",
       "        [ 96.0908,   0.0000,  27.8497, 114.9850],\n",
       "        [251.7103,  39.4523,   4.2897,  31.8525],\n",
       "        [186.7991,  69.1056,  52.8787,  17.5920],\n",
       "        [ 55.2218, 197.2987, 128.6570,  32.7314],\n",
       "        [163.9257, 145.3886,  25.5436,  12.9162],\n",
       "        [ 78.2979, 121.4850, 114.4101,  70.1516],\n",
       "        [139.5678, 119.2138,  41.1086,  22.3019],\n",
       "        [ 75.4524,   9.6302, 131.5182,   6.1898],\n",
       "        [ 49.8810,   0.0000, 206.1190,   0.0000],\n",
       "        [ 25.2549,   0.0000, 102.7928, 232.2977],\n",
       "        [ 45.9240,  59.6982, 159.5845,  14.1299],\n",
       "        [123.5426,  39.9272, 132.4574,   6.2849],\n",
       "        [256.0000,   0.0000,   0.0000,   2.2545],\n",
       "        [240.8004,  27.8003,  15.1996,  70.0433],\n",
       "        [  0.0000,  23.7110,  56.7722,  72.9040],\n",
       "        [153.5952,  77.5261,  65.0214,  25.7857],\n",
       "        [244.5936,  27.3920,  11.4064,  38.3525],\n",
       "        [ 85.3173, 158.5536,  27.8752,  26.3052],\n",
       "        [165.7583,  12.6912,  23.8162,  12.3708],\n",
       "        [175.3581,  74.5974,  31.6477, 101.2312],\n",
       "        [  0.0000,  70.3979, 256.0000,  73.0254],\n",
       "        [  0.0000,  24.6941, 147.3575,  32.6250],\n",
       "        [165.3331, 112.0285,  90.6669,  18.5884],\n",
       "        [ 53.9124, 146.0936, 141.4924,  11.3595],\n",
       "        [ 40.6449,   0.0000,  64.5493,  14.2087],\n",
       "        [120.5880,  89.6076,  14.0129,  52.5943],\n",
       "        [  0.0000,  62.9831,   0.0000, 134.2625],\n",
       "        [256.0000,   0.0000,   0.0000,  99.1876],\n",
       "        [ 84.4896, 254.8781,  71.4557,   1.1219],\n",
       "        [181.5643,  83.7674,  74.4357,  23.8528],\n",
       "        [ 66.9899, 227.8065,  50.3187,  17.9985],\n",
       "        [113.7601,  26.0834,  37.0225,  45.4305],\n",
       "        [159.5927, 221.5342,  29.8362,  34.4658],\n",
       "        [141.3586,   5.4927,  53.7774,  91.5124]], grad_fn=<SliceBackward>)"
      ]
     },
     "execution_count": 26,
     "metadata": {},
     "output_type": "execute_result"
    }
   ],
   "source": [
    "res[0,:,:4]"
   ]
  },
  {
   "cell_type": "code",
   "execution_count": 75,
   "metadata": {},
   "outputs": [
    {
     "data": {
      "text/plain": [
       "(tensor(1), tensor([256, 256]))"
      ]
     },
     "execution_count": 75,
     "metadata": {},
     "output_type": "execute_result"
    }
   ],
   "source": [
    "tensor([1]*4)[0], tensor([(256,256)]*4)[0] # img_scale, img_size format"
   ]
  },
  {
   "cell_type": "code",
   "execution_count": 76,
   "metadata": {},
   "outputs": [],
   "source": [
    "s = torch.tensor(1)\n",
    "i_s = torch.tensor([256,256])"
   ]
  },
  {
   "cell_type": "code",
   "execution_count": 77,
   "metadata": {},
   "outputs": [
    {
     "data": {
      "text/plain": [
       "tensor([256, 256, 256, 256])"
      ]
     },
     "execution_count": 77,
     "metadata": {},
     "output_type": "execute_result"
    }
   ],
   "source": [
    "torch.cat([i_s/s,i_s/s],dim=0)"
   ]
  },
  {
   "cell_type": "markdown",
   "metadata": {},
   "source": [
    "# End Test metrics"
   ]
  },
  {
   "cell_type": "code",
   "execution_count": 17,
   "metadata": {},
   "outputs": [],
   "source": [
    "def Effdet_Loss(preds, *targets):\n",
    "    class_out, box_out = preds\n",
    "    gt_bbox, gt_lbl = targets\n",
    "    batch_sz = gt_bbox.shape[0]\n",
    "    anchor_labeler = AnchorLabeler(anchors, model_config.num_classes,match_threshold=0.5)\n",
    "    loss_func = DetectionLoss(model_config)\n",
    "\n",
    "    # unpack fastai2 collated batch\n",
    "    boxes, labels = [],[]\n",
    "    perm = torch.LongTensor([1,0,3,2])\n",
    "\n",
    "    # Effdet loss function looking for list of tensors, \n",
    "    '''\n",
    "        batch_label_anchors\n",
    "            batch size\n",
    "            list of bounding box\n",
    "            list of label (float)\n",
    "    '''\n",
    "    # can this part of code using broadcasting? \n",
    "    # currently after unpad they don't have same size\n",
    "    # if unscale batchwise then un_pad, will have 128,128,128,128 needs to be removed itemwises.\n",
    "\n",
    "    for i in range(batch_sz):\n",
    "        box, lbl = un_pad(gt_bbox[i],gt_lbl[i])\n",
    "        boxes.append(_unscale_pnts(box[:,perm],256).cpu()) # to tf style, yxyx\n",
    "        labels.append(lbl.float().cpu())\n",
    "\n",
    "    # match anchors to gt_bbox and gt_lbl\n",
    "\n",
    "    cls_targets, box_targets, num_positivies = anchor_labeler.batch_label_anchors(\n",
    "        batch_sz, boxes, labels\n",
    "        )\n",
    "    if torch.cuda.is_avaiable():\n",
    "        for i in range(len(cls_targets)):\n",
    "            cls_targets[i] = cls_targets[i].cuda()\n",
    "            box_targets[i] = box_targets[i].cuda()\n",
    "    loss, class_loss, box_loss = loss_func(class_out, box_out, cls_targets, box_targets, num_positivies)\n",
    "    return loss\n",
    "\n"
   ]
  },
  {
   "cell_type": "code",
   "execution_count": 18,
   "metadata": {},
   "outputs": [],
   "source": [
    "learn = Learner(dls,model,loss_func=Effdet_Loss,model_dir='/home/heye0507/wheat_detection/model/')"
   ]
  },
  {
   "cell_type": "code",
   "execution_count": null,
   "metadata": {},
   "outputs": [],
   "source": []
  },
  {
   "cell_type": "code",
   "execution_count": null,
   "metadata": {},
   "outputs": [],
   "source": []
  },
  {
   "cell_type": "code",
   "execution_count": 20,
   "metadata": {},
   "outputs": [],
   "source": [
    "# learn.summary()"
   ]
  },
  {
   "cell_type": "code",
   "execution_count": 34,
   "metadata": {},
   "outputs": [
    {
     "data": {
      "text/html": [],
      "text/plain": [
       "<IPython.core.display.HTML object>"
      ]
     },
     "metadata": {},
     "output_type": "display_data"
    },
    {
     "data": {
      "text/plain": [
       "SuggestedLRs(lr_min=0.006918309628963471, lr_steep=0.05754399299621582)"
      ]
     },
     "execution_count": 34,
     "metadata": {},
     "output_type": "execute_result"
    },
    {
     "data": {
      "image/png": "[encoded data removed]",
      "text/plain": [
       "<Figure size 432x288 with 1 Axes>"
      ]
     },
     "metadata": {
      "needs_background": "light"
     },
     "output_type": "display_data"
    }
   ],
   "source": [
    "learn.lr_find()"
   ]
  },
  {
   "cell_type": "code",
   "execution_count": null,
   "metadata": {},
   "outputs": [],
   "source": []
  }
 ],
 "metadata": {
  "kernelspec": {
   "display_name": "Python 3.7.7 64-bit ('fastai2': conda)",
   "language": "python",
   "name": "python37764bitfastai2conda083c600ae6d54f50a73a18c04ce04a99"
  },
  "language_info": {
   "codemirror_mode": {
    "name": "ipython",
    "version": 3
   },
   "file_extension": ".py",
   "mimetype": "text/x-python",
   "name": "python",
   "nbconvert_exporter": "python",
   "pygments_lexer": "ipython3",
   "version": "3.7.7"
  }
 },
 "nbformat": 4,
 "nbformat_minor": 2
}
