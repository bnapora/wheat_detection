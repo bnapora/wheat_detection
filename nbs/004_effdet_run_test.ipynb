{
 "cells": [
  {
   "cell_type": "code",
   "execution_count": 1,
   "metadata": {},
   "outputs": [],
   "source": [
    "from fastai2.vision.all import *\n",
    "from fastai2.vision.core import _unscale_pnts\n",
    "from effdet import get_efficientdet_config, EfficientDet, DetBenchTrain\n",
    "from effdet.efficientdet import HeadNet\n",
    "from effdet.anchors import Anchors,AnchorLabeler,generate_detections,MAX_DETECTION_POINTS\n",
    "from effdet.loss import DetectionLoss"
   ]
  },
  {
   "cell_type": "code",
   "execution_count": 2,
   "metadata": {},
   "outputs": [],
   "source": [
    "# refactor after testing \n",
    "# Setting up effdet related config\n",
    "\n",
    "model_config = get_efficientdet_config('tf_efficientdet_d0')\n",
    "model = EfficientDet(model_config,pretrained_backbone=True)\n",
    "model_config.num_classes = 1\n",
    "model_config.image_size = 256\n",
    "model.class_net = HeadNet(model_config,num_outputs=model_config.num_classes,norm_kwargs=dict(eps=.001,momentum=0.01))\n",
    "path = Path('/home/heye0507/wheat_detection/data')"
   ]
  },
  {
   "cell_type": "code",
   "execution_count": 3,
   "metadata": {},
   "outputs": [],
   "source": [
    "# Fastai bbox style is [x1,y1,x2,y2], given coco-style is [x1,y1,w,h]\n",
    "def convert_fastai_bbox(box):\n",
    "    x1,y1,w,h = box\n",
    "    x2 = x1 + w\n",
    "    y2 = y1 + h\n",
    "    return [x1,y1,x2,y2]\n",
    "    \n",
    "def prep_bbox(df):\n",
    "    images, bbox = df['image_id'],df['bbox']\n",
    "    d = collections.defaultdict(list)\n",
    "    for i,b in zip(images,bbox):\n",
    "        d[i].append(convert_fastai_bbox([float(i) for i in b[1:-1].split(',')]))\n",
    "    return d"
   ]
  },
  {
   "cell_type": "code",
   "execution_count": 4,
   "metadata": {},
   "outputs": [],
   "source": [
    "def get_data(path,sz=224,bs=64):\n",
    "    base = Path(path).parent\n",
    "    df = pd.read_csv(path)\n",
    "    img2bbox = prep_bbox(df)\n",
    "    dblocks = DataBlock(\n",
    "        blocks = (ImageBlock,BBoxBlock,BBoxLblBlock),\n",
    "        splitter = RandomSplitter(),\n",
    "        get_x = lambda o: str(base/'train')+'/'+o+'.jpg',\n",
    "        get_y = [lambda o: img2bbox[o], lambda o: ['wheat' for i in range(len(img2bbox[o]))]],\n",
    "        item_tfms = Resize(sz),\n",
    "        batch_tfms=[Normalize.from_stats(*imagenet_stats)],\n",
    "        n_inp=1\n",
    "    )\n",
    "    return dblocks.dataloaders(img2bbox.keys(),bs=bs)"
   ]
  },
  {
   "cell_type": "code",
   "execution_count": 5,
   "metadata": {},
   "outputs": [],
   "source": [
    "dls = get_data(path/'train.csv',sz=256,bs=8)"
   ]
  },
  {
   "cell_type": "code",
   "execution_count": 6,
   "metadata": {},
   "outputs": [],
   "source": [
    "def un_pad(boxes,labels):\n",
    "    bb_keep = ((boxes[:,2] - boxes[:,0])>0).nonzero()[:,0]\n",
    "    return boxes[bb_keep],labels[bb_keep]"
   ]
  },
  {
   "cell_type": "code",
   "execution_count": 7,
   "metadata": {},
   "outputs": [],
   "source": [
    "# Setup anchor with gt_bbox & gt_lbl matching\n",
    "\n",
    "anchors = Anchors(\n",
    "    model_config.min_level,model_config.max_level,\n",
    "    model_config.num_scales, model_config.aspect_ratios,\n",
    "    model_config.anchor_scale, model_config.image_size\n",
    "    )"
   ]
  },
  {
   "cell_type": "code",
   "execution_count": 8,
   "metadata": {},
   "outputs": [],
   "source": [
    "def Effdet_Loss(preds, *targets):\n",
    "    class_out, box_out = preds\n",
    "    gt_bbox, gt_lbl = targets\n",
    "    batch_sz = gt_bbox.shape[0]\n",
    "    anchor_labeler = AnchorLabeler(anchors, model_config.num_classes,match_threshold=0.5)\n",
    "    loss_func = DetectionLoss(model_config)\n",
    "\n",
    "    # unpack fastai2 collated batch\n",
    "    boxes, labels = [],[]\n",
    "    perm = torch.LongTensor([1,0,3,2])\n",
    "\n",
    "    # Effdet loss function looking for list of tensors, \n",
    "    '''\n",
    "        batch_label_anchors\n",
    "            batch size\n",
    "            list of bounding box\n",
    "            list of label (float)\n",
    "    '''\n",
    "    # can this part of code using broadcasting? \n",
    "    # currently after unpad they don't have same size\n",
    "    # if unscale batchwise then un_pad, will have 128,128,128,128 needs to be removed itemwises.\n",
    "\n",
    "    for i in range(batch_sz):\n",
    "        box, lbl = un_pad(gt_bbox[i],gt_lbl[i])\n",
    "        boxes.append(_unscale_pnts(box[:,perm],256).cpu()) # to tf style, yxyx\n",
    "        labels.append(lbl.float().cpu())\n",
    "\n",
    "    # match anchors to gt_bbox and gt_lbl\n",
    "\n",
    "    cls_targets, box_targets, num_positivies = anchor_labeler.batch_label_anchors(\n",
    "        batch_sz, boxes, labels\n",
    "        )\n",
    "    if torch.cuda.is_available():\n",
    "        for i in range(len(cls_targets)):\n",
    "            cls_targets[i] = cls_targets[i].cuda()\n",
    "            box_targets[i] = box_targets[i].cuda()\n",
    "    loss, class_loss, box_loss = loss_func(class_out, box_out, cls_targets, box_targets, num_positivies)\n",
    "    return loss\n",
    "\n"
   ]
  },
  {
   "cell_type": "code",
   "execution_count": 9,
   "metadata": {},
   "outputs": [],
   "source": [
    "learn = Learner(dls,model,loss_func=Effdet_Loss,model_dir='/home/heye0507/wheat_detection/model/').to_fp16()"
   ]
  },
  {
   "cell_type": "code",
   "execution_count": 10,
   "metadata": {},
   "outputs": [
    {
     "data": {
      "text/html": [],
      "text/plain": [
       "<IPython.core.display.HTML object>"
      ]
     },
     "metadata": {},
     "output_type": "display_data"
    },
    {
     "data": {
      "text/plain": [
       "SuggestedLRs(lr_min=0.33113112449646, lr_steep=1.0964781722577754e-06)"
      ]
     },
     "execution_count": 10,
     "metadata": {},
     "output_type": "execute_result"
    },
    {
     "data": {
      "image/png": "[encoded data removed]",
      "text/plain": [
       "<Figure size 432x288 with 1 Axes>"
      ]
     },
     "metadata": {
      "needs_background": "light"
     },
     "output_type": "display_data"
    }
   ],
   "source": [
    "learn.lr_find()"
   ]
  },
  {
   "cell_type": "code",
   "execution_count": 11,
   "metadata": {},
   "outputs": [
    {
     "data": {
      "text/html": [
       "<table border=\"1\" class=\"dataframe\">\n",
       "  <thead>\n",
       "    <tr style=\"text-align: left;\">\n",
       "      <th>epoch</th>\n",
       "      <th>train_loss</th>\n",
       "      <th>valid_loss</th>\n",
       "      <th>time</th>\n",
       "    </tr>\n",
       "  </thead>\n",
       "  <tbody>\n",
       "    <tr>\n",
       "      <td>0</td>\n",
       "      <td>16.200953</td>\n",
       "      <td>16.893120</td>\n",
       "      <td>02:37</td>\n",
       "    </tr>\n",
       "    <tr>\n",
       "      <td>1</td>\n",
       "      <td>7.158946</td>\n",
       "      <td>3.303419</td>\n",
       "      <td>02:37</td>\n",
       "    </tr>\n",
       "    <tr>\n",
       "      <td>2</td>\n",
       "      <td>6.263741</td>\n",
       "      <td>11.078637</td>\n",
       "      <td>02:36</td>\n",
       "    </tr>\n",
       "    <tr>\n",
       "      <td>3</td>\n",
       "      <td>5.988571</td>\n",
       "      <td>6.530420</td>\n",
       "      <td>02:37</td>\n",
       "    </tr>\n",
       "    <tr>\n",
       "      <td>4</td>\n",
       "      <td>4.938424</td>\n",
       "      <td>4.765682</td>\n",
       "      <td>02:36</td>\n",
       "    </tr>\n",
       "  </tbody>\n",
       "</table>"
      ],
      "text/plain": [
       "<IPython.core.display.HTML object>"
      ]
     },
     "metadata": {},
     "output_type": "display_data"
    }
   ],
   "source": [
    "learn.fit_one_cycle(5,2e-2)"
   ]
  },
  {
   "cell_type": "code",
   "execution_count": null,
   "metadata": {},
   "outputs": [],
   "source": []
  },
  {
   "cell_type": "markdown",
   "metadata": {},
   "source": [
    "# Test metrics"
   ]
  },
  {
   "cell_type": "code",
   "execution_count": 12,
   "metadata": {},
   "outputs": [],
   "source": [
    "from numba import jit"
   ]
  },
  {
   "cell_type": "code",
   "execution_count": 13,
   "metadata": {},
   "outputs": [],
   "source": [
    "# code from kaggle https://www.kaggle.com/pestipeti/competition-metric-details-script/data\n",
    "@jit(nopython=True)\n",
    "def calculate_iou(gt, pr, form='pascal_voc') -> float:\n",
    "    \"\"\"Calculates the Intersection over Union.\n",
    "\n",
    "    Args:\n",
    "        gt: (np.ndarray[Union[int, float]]) coordinates of the ground-truth box\n",
    "        pr: (np.ndarray[Union[int, float]]) coordinates of the prdected box\n",
    "        form: (str) gt/pred coordinates format\n",
    "            - pascal_voc: [xmin, ymin, xmax, ymax]\n",
    "            - coco: [xmin, ymin, w, h]\n",
    "    Returns:\n",
    "        (float) Intersection over union (0.0 <= iou <= 1.0)\n",
    "    \"\"\"\n",
    "    if form == 'coco':\n",
    "        gt = gt.copy()\n",
    "        pr = pr.copy()\n",
    "\n",
    "        gt[2] = gt[0] + gt[2]\n",
    "        gt[3] = gt[1] + gt[3]\n",
    "        pr[2] = pr[0] + pr[2]\n",
    "        pr[3] = pr[1] + pr[3]\n",
    "\n",
    "    # Calculate overlap area\n",
    "    dx = min(gt[2], pr[2]) - max(gt[0], pr[0]) + 1\n",
    "    \n",
    "    if dx < 0:\n",
    "        return 0.0\n",
    "    \n",
    "    dy = min(gt[3], pr[3]) - max(gt[1], pr[1]) + 1\n",
    "\n",
    "    if dy < 0:\n",
    "        return 0.0\n",
    "\n",
    "    overlap_area = dx * dy\n",
    "\n",
    "    # Calculate union area\n",
    "    union_area = (\n",
    "            (gt[2] - gt[0] + 1) * (gt[3] - gt[1] + 1) +\n",
    "            (pr[2] - pr[0] + 1) * (pr[3] - pr[1] + 1) -\n",
    "            overlap_area\n",
    "    )\n",
    "\n",
    "    return overlap_area / union_area\n",
    "\n",
    "@jit(nopython=True)\n",
    "def find_best_match(gts, pred, pred_idx, threshold = 0.5, form = 'pascal_voc', ious=None) -> int:\n",
    "    \"\"\"Returns the index of the 'best match' between the\n",
    "    ground-truth boxes and the prediction. The 'best match'\n",
    "    is the highest IoU. (0.0 IoUs are ignored).\n",
    "\n",
    "    Args:\n",
    "        gts: (List[List[Union[int, float]]]) Coordinates of the available ground-truth boxes\n",
    "        pred: (List[Union[int, float]]) Coordinates of the predicted box\n",
    "        pred_idx: (int) Index of the current predicted box\n",
    "        threshold: (float) Threshold\n",
    "        form: (str) Format of the coordinates\n",
    "        ious: (np.ndarray) len(gts) x len(preds) matrix for storing calculated ious.\n",
    "\n",
    "    Return:\n",
    "        (int) Index of the best match GT box (-1 if no match above threshold)\n",
    "    \"\"\"\n",
    "    best_match_iou = -np.inf\n",
    "    best_match_idx = -1\n",
    "\n",
    "    for gt_idx in range(len(gts)):\n",
    "        \n",
    "        if gts[gt_idx][0] < 0:\n",
    "            # Already matched GT-box\n",
    "            continue\n",
    "        \n",
    "        iou = -1 if ious is None else ious[gt_idx][pred_idx]\n",
    "\n",
    "        if iou < 0:\n",
    "            iou = calculate_iou(gts[gt_idx], pred, form=form)\n",
    "            \n",
    "            if ious is not None:\n",
    "                ious[gt_idx][pred_idx] = iou\n",
    "\n",
    "        if iou < threshold:\n",
    "            continue\n",
    "\n",
    "        if iou > best_match_iou:\n",
    "            best_match_iou = iou\n",
    "            best_match_idx = gt_idx\n",
    "\n",
    "    return best_match_idx\n",
    "\n",
    "@jit(nopython=True)\n",
    "def calculate_precision(gts, preds, threshold = 0.5, form = 'coco', ious=None) -> float:\n",
    "    \"\"\"Calculates precision for GT - prediction pairs at one threshold.\n",
    "\n",
    "    Args:\n",
    "        gts: (List[List[Union[int, float]]]) Coordinates of the available ground-truth boxes\n",
    "        preds: (List[List[Union[int, float]]]) Coordinates of the predicted boxes,\n",
    "               sorted by confidence value (descending)\n",
    "        threshold: (float) Threshold\n",
    "        form: (str) Format of the coordinates\n",
    "        ious: (np.ndarray) len(gts) x len(preds) matrix for storing calculated ious.\n",
    "\n",
    "    Return:\n",
    "        (float) Precision\n",
    "    \"\"\"\n",
    "    n = len(preds)\n",
    "    tp = 0\n",
    "    fp = 0\n",
    "    \n",
    "    # for pred_idx, pred in enumerate(preds_sorted):\n",
    "    for pred_idx in range(n):\n",
    "\n",
    "        best_match_gt_idx = find_best_match(gts, preds[pred_idx], pred_idx,\n",
    "                                            threshold=threshold, form=form, ious=ious)\n",
    "\n",
    "        if best_match_gt_idx >= 0:\n",
    "            # True positive: The predicted box matches a gt box with an IoU above the threshold.\n",
    "            tp += 1\n",
    "            # Remove the matched GT box\n",
    "            gts[best_match_gt_idx] = -1\n",
    "\n",
    "        else:\n",
    "            # No match\n",
    "            # False positive: indicates a predicted box had no associated gt box.\n",
    "            fp += 1\n",
    "\n",
    "    # False negative: indicates a gt box had no associated predicted box.\n",
    "    fn = (gts.sum(axis=1) > 0).sum()\n",
    "\n",
    "    return tp / (tp + fp + fn)\n",
    "\n",
    "\n",
    "@jit(nopython=True)\n",
    "def calculate_image_precision(gts, preds, thresholds = (0.5, ), form = 'coco') -> float:\n",
    "    \"\"\"Calculates image precision.\n",
    "\n",
    "    Args:\n",
    "        gts: (List[List[Union[int, float]]]) Coordinates of the available ground-truth boxes\n",
    "        preds: (List[List[Union[int, float]]]) Coordinates of the predicted boxes,\n",
    "               sorted by confidence value (descending)\n",
    "        thresholds: (float) Different thresholds\n",
    "        form: (str) Format of the coordinates\n",
    "\n",
    "    Return:\n",
    "        (float) Precision\n",
    "    \"\"\"\n",
    "    n_threshold = len(thresholds)\n",
    "    image_precision = 0.0\n",
    "    \n",
    "    ious = np.ones((len(gts), len(preds))) * -1\n",
    "    # ious = None\n",
    "\n",
    "    for threshold in thresholds:\n",
    "        precision_at_threshold = calculate_precision(gts.copy(), preds, threshold=threshold,\n",
    "                                                     form=form, ious=ious)\n",
    "        image_precision += precision_at_threshold / n_threshold\n",
    "\n",
    "    return image_precision"
   ]
  },
  {
   "cell_type": "code",
   "execution_count": 14,
   "metadata": {},
   "outputs": [
    {
     "data": {
      "text/plain": [
       "(torch.Size([8, 3, 256, 256]), torch.Size([8, 70, 4]), torch.Size([8, 70]))"
      ]
     },
     "execution_count": 14,
     "metadata": {},
     "output_type": "execute_result"
    }
   ],
   "source": [
    "b = dls.one_batch()\n",
    "b[0].shape, b[1].shape, b[2].shape # img, bbox, bboxlbl"
   ]
  },
  {
   "cell_type": "code",
   "execution_count": 15,
   "metadata": {},
   "outputs": [],
   "source": [
    "preds = learn.model(b[0])"
   ]
  },
  {
   "cell_type": "code",
   "execution_count": 24,
   "metadata": {},
   "outputs": [],
   "source": [
    "# Check caution lines and FIX it after testing\n",
    "\n",
    "def my_mAP(preds,targs,img_size=256):\n",
    "    class_out, box_out = preds\n",
    "    gt_bbox, gt_lbl = targs\n",
    "    batch_size = gt_bbox.shape[0]\n",
    "    valid_img_precision = []\n",
    "    \n",
    "    \n",
    "    ## unpack fastai2 collated batch\n",
    "    boxes, labels = [],[]\n",
    "\n",
    "    for i in range(batch_size):\n",
    "        box, lbl = un_pad(gt_bbox[i],gt_lbl[i])\n",
    "        box = _unscale_pnts(box,img_size).cpu()\n",
    "        boxes.append(box.numpy()) \n",
    "        labels.append(lbl.float().cpu())\n",
    "    ##########################################################\n",
    "        \n",
    "    ## prepare effDet format\n",
    "    '''\n",
    "        CAUTION: \n",
    "                model_config used as global var\n",
    "                anchors used as global var\n",
    "        \n",
    "        res is a list of results in the format\n",
    "        len(res) = MAX_DETECTION_POINTS, by default is 100, given dataset has max 116 bbox, suggests a higher num\n",
    "        \n",
    "        res: [[x,y,x,y,p,lbl],\n",
    "              [],\n",
    "              []...\n",
    "             ]\n",
    "        \n",
    "        each of the item in res:\n",
    "            0:4, bbox pred in xyxy pascal format\n",
    "            5, confidence\n",
    "            6, class (will always be 1. since only 1 class in the label)\n",
    "                \n",
    "        \n",
    "    ''' \n",
    "    \n",
    "    class_out,box_out,indices,classes = _post_process(model_config,class_out, box_out) # CAUTION\n",
    "    for i in range(batch_size):\n",
    "        class_out[i] = class_out[i].cpu()\n",
    "        box_out[i] = box_out[i].cpu()\n",
    "    res = _batch_detection(\n",
    "        batch_size,class_out,\n",
    "        box_out,anchors.boxes,\n",
    "        indices,classes,\n",
    "        tensor([1.]*batch_size),tensor([(img_size,img_size)]*batch_size)\n",
    "    ) # CAUTION\n",
    "    ##########################################################\n",
    "        \n",
    "    \n",
    "    '''\n",
    "        CAUTION:\n",
    "                threshold and form is hardcode\n",
    "    '''\n",
    "    for i in range(batch_size):\n",
    "        pred = res[i,:,0:4].detach().numpy() \n",
    "        valid_img_precision.append(calculate_precision(boxes[i],pred,threshold=0.5,form='pascal_voc')) # CAUTION\n",
    "    return np.mean(valid_img_precision)\n",
    "    "
   ]
  },
  {
   "cell_type": "code",
   "execution_count": 18,
   "metadata": {},
   "outputs": [],
   "source": [
    "from effdet.bench import _post_process,_batch_detection"
   ]
  },
  {
   "cell_type": "code",
   "execution_count": 25,
   "metadata": {},
   "outputs": [
    {
     "data": {
      "text/plain": [
       "0.0016395368708878066"
      ]
     },
     "execution_count": 25,
     "metadata": {},
     "output_type": "execute_result"
    }
   ],
   "source": [
    "my_mAP(preds,(b[1],b[2]))"
   ]
  },
  {
   "cell_type": "code",
   "execution_count": null,
   "metadata": {},
   "outputs": [],
   "source": []
  }
 ],
 "metadata": {
  "kernelspec": {
   "display_name": "Python 3.7.7 64-bit ('fastai2': conda)",
   "language": "python",
   "name": "python37764bitfastai2conda083c600ae6d54f50a73a18c04ce04a99"
  },
  "language_info": {
   "codemirror_mode": {
    "name": "ipython",
    "version": 3
   },
   "file_extension": ".py",
   "mimetype": "text/x-python",
   "name": "python",
   "nbconvert_exporter": "python",
   "pygments_lexer": "ipython3",
   "version": "3.7.7"
  }
 },
 "nbformat": 4,
 "nbformat_minor": 4
}
